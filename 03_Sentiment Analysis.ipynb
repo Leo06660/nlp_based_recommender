{
 "cells": [
  {
   "cell_type": "code",
   "execution_count": 3,
   "metadata": {},
   "outputs": [],
   "source": [
    "# Basic functionalities\n",
    "import numpy as np\n",
    "import pandas as pd\n",
    "import matplotlib.pyplot as plt"
   ]
  },
  {
   "cell_type": "code",
   "execution_count": 4,
   "metadata": {},
   "outputs": [],
   "source": [
    "# Sentiment analysis\n",
    "from textblob import TextBlob as tb"
   ]
  },
  {
   "cell_type": "markdown",
   "metadata": {},
   "source": [
    "# Sentiment Analysis"
   ]
  },
  {
   "cell_type": "code",
   "execution_count": 13,
   "metadata": {},
   "outputs": [],
   "source": [
    "corpus_filename = './pickles/corpus_na.pkl'"
   ]
  },
  {
   "cell_type": "code",
   "execution_count": 14,
   "metadata": {},
   "outputs": [],
   "source": [
    "clean_corpus = pd.read_pickle(corpus_filename)"
   ]
  },
  {
   "cell_type": "code",
   "execution_count": 15,
   "metadata": {},
   "outputs": [
    {
     "data": {
      "text/html": [
       "<div>\n",
       "<style scoped>\n",
       "    .dataframe tbody tr th:only-of-type {\n",
       "        vertical-align: middle;\n",
       "    }\n",
       "\n",
       "    .dataframe tbody tr th {\n",
       "        vertical-align: top;\n",
       "    }\n",
       "\n",
       "    .dataframe thead th {\n",
       "        text-align: right;\n",
       "    }\n",
       "</style>\n",
       "<table border=\"1\" class=\"dataframe\">\n",
       "  <thead>\n",
       "    <tr style=\"text-align: right;\">\n",
       "      <th></th>\n",
       "      <th>polarity</th>\n",
       "      <th>subjectivity</th>\n",
       "    </tr>\n",
       "    <tr>\n",
       "      <th>Comedian</th>\n",
       "      <th></th>\n",
       "      <th></th>\n",
       "    </tr>\n",
       "  </thead>\n",
       "  <tbody>\n",
       "    <tr>\n",
       "      <td>Amy Schumer</td>\n",
       "      <td>0.038222</td>\n",
       "      <td>0.554380</td>\n",
       "    </tr>\n",
       "    <tr>\n",
       "      <td>Arsenio Hall</td>\n",
       "      <td>0.001132</td>\n",
       "      <td>0.589421</td>\n",
       "    </tr>\n",
       "    <tr>\n",
       "      <td>Aziz Ansari</td>\n",
       "      <td>0.124939</td>\n",
       "      <td>0.521631</td>\n",
       "    </tr>\n",
       "    <tr>\n",
       "      <td>CHRIS ROCK</td>\n",
       "      <td>0.046597</td>\n",
       "      <td>0.592610</td>\n",
       "    </tr>\n",
       "    <tr>\n",
       "      <td>Chris Rock</td>\n",
       "      <td>-0.042416</td>\n",
       "      <td>0.631802</td>\n",
       "    </tr>\n",
       "    <tr>\n",
       "      <td>Dave Chappelle</td>\n",
       "      <td>0.025641</td>\n",
       "      <td>0.483333</td>\n",
       "    </tr>\n",
       "    <tr>\n",
       "      <td>Hasan Minhaj</td>\n",
       "      <td>0.043560</td>\n",
       "      <td>0.482723</td>\n",
       "    </tr>\n",
       "    <tr>\n",
       "      <td>JACK WHITEHALL</td>\n",
       "      <td>0.046371</td>\n",
       "      <td>0.579325</td>\n",
       "    </tr>\n",
       "    <tr>\n",
       "      <td>JO KOY</td>\n",
       "      <td>0.019646</td>\n",
       "      <td>0.652742</td>\n",
       "    </tr>\n",
       "    <tr>\n",
       "      <td>Jimmy O. Yang</td>\n",
       "      <td>0.193193</td>\n",
       "      <td>0.428999</td>\n",
       "    </tr>\n",
       "    <tr>\n",
       "      <td>Jo Koy</td>\n",
       "      <td>-0.042414</td>\n",
       "      <td>0.593470</td>\n",
       "    </tr>\n",
       "    <tr>\n",
       "      <td>Joe Rogan</td>\n",
       "      <td>-0.033196</td>\n",
       "      <td>0.598653</td>\n",
       "    </tr>\n",
       "    <tr>\n",
       "      <td>Kevin Hart</td>\n",
       "      <td>0.001867</td>\n",
       "      <td>0.576192</td>\n",
       "    </tr>\n",
       "    <tr>\n",
       "      <td>MICHAEL CHE</td>\n",
       "      <td>-0.052143</td>\n",
       "      <td>0.503095</td>\n",
       "    </tr>\n",
       "    <tr>\n",
       "      <td>Michael McIntyre</td>\n",
       "      <td>0.134188</td>\n",
       "      <td>0.690171</td>\n",
       "    </tr>\n",
       "    <tr>\n",
       "      <td>Mike Epps</td>\n",
       "      <td>-0.106250</td>\n",
       "      <td>0.375000</td>\n",
       "    </tr>\n",
       "    <tr>\n",
       "      <td>Neal Brennan</td>\n",
       "      <td>0.052216</td>\n",
       "      <td>0.272944</td>\n",
       "    </tr>\n",
       "    <tr>\n",
       "      <td>Ronny Chieng</td>\n",
       "      <td>0.111345</td>\n",
       "      <td>0.466160</td>\n",
       "    </tr>\n",
       "    <tr>\n",
       "      <td>Russell Peters</td>\n",
       "      <td>0.175761</td>\n",
       "      <td>0.288492</td>\n",
       "    </tr>\n",
       "    <tr>\n",
       "      <td>Sebastian Maniscalco</td>\n",
       "      <td>0.144544</td>\n",
       "      <td>0.493223</td>\n",
       "    </tr>\n",
       "    <tr>\n",
       "      <td>Trevor Noah</td>\n",
       "      <td>0.006345</td>\n",
       "      <td>0.533279</td>\n",
       "    </tr>\n",
       "    <tr>\n",
       "      <td>Vir Das</td>\n",
       "      <td>0.053560</td>\n",
       "      <td>0.520078</td>\n",
       "    </tr>\n",
       "    <tr>\n",
       "      <td>Whitney Cummings</td>\n",
       "      <td>0.093029</td>\n",
       "      <td>0.536442</td>\n",
       "    </tr>\n",
       "  </tbody>\n",
       "</table>\n",
       "</div>"
      ],
      "text/plain": [
       "                      polarity  subjectivity\n",
       "Comedian                                    \n",
       "Amy Schumer           0.038222      0.554380\n",
       "Arsenio Hall          0.001132      0.589421\n",
       "Aziz Ansari           0.124939      0.521631\n",
       "CHRIS ROCK            0.046597      0.592610\n",
       "Chris Rock           -0.042416      0.631802\n",
       "Dave Chappelle        0.025641      0.483333\n",
       "Hasan Minhaj          0.043560      0.482723\n",
       "JACK WHITEHALL        0.046371      0.579325\n",
       "JO KOY                0.019646      0.652742\n",
       "Jimmy O. Yang         0.193193      0.428999\n",
       "Jo Koy               -0.042414      0.593470\n",
       "Joe Rogan            -0.033196      0.598653\n",
       "Kevin Hart            0.001867      0.576192\n",
       "MICHAEL CHE          -0.052143      0.503095\n",
       "Michael McIntyre      0.134188      0.690171\n",
       "Mike Epps            -0.106250      0.375000\n",
       "Neal Brennan          0.052216      0.272944\n",
       "Ronny Chieng          0.111345      0.466160\n",
       "Russell Peters        0.175761      0.288492\n",
       "Sebastian Maniscalco  0.144544      0.493223\n",
       "Trevor Noah           0.006345      0.533279\n",
       "Vir Das               0.053560      0.520078\n",
       "Whitney Cummings      0.093029      0.536442"
      ]
     },
     "execution_count": 15,
     "metadata": {},
     "output_type": "execute_result"
    }
   ],
   "source": [
    "pol = lambda x: tb(x).sentiment.polarity\n",
    "sub = lambda x: tb(x).sentiment.subjectivity\n",
    "\n",
    "data = pd.DataFrame()\n",
    "data['polarity'] = clean_corpus['Transcript'].apply(pol)\n",
    "data['subjectivity'] = clean_corpus['Transcript'].apply(sub)\n",
    "data"
   ]
  },
  {
   "cell_type": "code",
   "execution_count": 16,
   "metadata": {},
   "outputs": [
    {
     "data": {
      "image/png": "[encoded data removed]",
      "text/plain": [
       "<Figure size 720x576 with 1 Axes>"
      ]
     },
     "metadata": {
      "needs_background": "light"
     },
     "output_type": "display_data"
    }
   ],
   "source": [
    "plt.rcParams['figure.figsize'] = [10, 8]\n",
    "\n",
    "for index, comedian in enumerate(data.index):\n",
    "    x = data.polarity.loc[comedian]\n",
    "    y = data.subjectivity.loc[comedian]\n",
    "    plt.scatter(x, y, color='blue')\n",
    "    plt.text(x+.001, y+.001, data.index[index], fontsize=10)\n",
    "#     plt.xlim(-.01, .12) \n",
    "    \n",
    "plt.title('Sentiment Analysis', fontsize=20)\n",
    "plt.xlabel('<-- Negative -------- Positive -->', fontsize=15)\n",
    "plt.ylabel('<-- Facts -------- Opinions -->', fontsize=15)\n",
    "\n",
    "plt.show()"
   ]
  },
  {
   "cell_type": "code",
   "execution_count": null,
   "metadata": {},
   "outputs": [],
   "source": []
  },
  {
   "cell_type": "code",
   "execution_count": null,
   "metadata": {},
   "outputs": [],
   "source": []
  }
 ],
 "metadata": {
  "kernelspec": {
   "display_name": "Python 3",
   "language": "python",
   "name": "python3"
  },
  "language_info": {
   "codemirror_mode": {
    "name": "ipython",
    "version": 3
   },
   "file_extension": ".py",
   "mimetype": "text/x-python",
   "name": "python",
   "nbconvert_exporter": "python",
   "pygments_lexer": "ipython3",
   "version": "3.7.4"
  }
 },
 "nbformat": 4,
 "nbformat_minor": 2
}
